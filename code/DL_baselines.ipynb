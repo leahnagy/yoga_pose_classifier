{
  "nbformat": 4,
  "nbformat_minor": 0,
  "metadata": {
    "colab": {
      "name": "DL_baselines.ipynb",
      "provenance": [],
      "authorship_tag": "ABX9TyN8MJXmC5ylCO6SdZ5oIbr2",
      "include_colab_link": true
    },
    "kernelspec": {
      "name": "python3",
      "display_name": "Python 3"
    },
    "language_info": {
      "name": "python"
    }
  },
  "cells": [
    {
      "cell_type": "markdown",
      "metadata": {
        "id": "view-in-github",
        "colab_type": "text"
      },
      "source": [
        "<a href=\"https://colab.research.google.com/github/leahnagy/yoga_pose_classifier/blob/main/code/DL_baselines.ipynb\" target=\"_parent\"><img src=\"https://colab.research.google.com/assets/colab-badge.svg\" alt=\"Open In Colab\"/></a>"
      ]
    },
    {
      "cell_type": "code",
      "execution_count": 1,
      "metadata": {
        "colab": {
          "base_uri": "https://localhost:8080/"
        },
        "id": "0J_4c871qwol",
        "outputId": "11f64a9f-8bed-4672-ac7a-16724dae1f99"
      },
      "outputs": [
        {
          "output_type": "stream",
          "name": "stdout",
          "text": [
            "Mounted at /content/gdrive\n"
          ]
        }
      ],
      "source": [
        "# Connect to google drive\n",
        "from google.colab import drive\n",
        "drive.mount('/content/gdrive')"
      ]
    },
    {
      "cell_type": "code",
      "source": [
        "# Import necessary libraries\n",
        "import numpy as np\n",
        "import tensorflow as tf\n",
        "from tensorflow import keras\n",
        "from tensorflow.keras.models import Sequential\n",
        "from tensorflow.keras.layers import Activation, Dense, Flatten, BatchNormalization, Conv2D, MaxPool2D\n",
        "from tensorflow.keras.layers import Dropout\n",
        "from tensorflow.keras.optimizers import Adam\n",
        "from tensorflow.keras.metrics import categorical_crossentropy\n",
        "from tensorflow.keras.preprocessing.image import ImageDataGenerator\n",
        "from sklearn.metrics import confusion_matrix\n",
        "import itertools\n",
        "import os\n",
        "import shutil\n",
        "import random\n",
        "import glob\n",
        "import matplotlib.pyplot as plt\n",
        "import warnings\n",
        "warnings.simplefilter(action='ignore', category=FutureWarning)\n",
        "%matplotlib inline"
      ],
      "metadata": {
        "id": "31eyNRO9q5Y6"
      },
      "execution_count": 2,
      "outputs": []
    },
    {
      "cell_type": "code",
      "source": [
        "# Get labels for classes\n",
        "labels = list()\n",
        "train_path='/content/gdrive/MyDrive/Yoga Pose Classification Dataset/TRAIN/'\n",
        "test_path = '/content/gdrive/MyDrive/Yoga Pose Classification Dataset/TEST/'\n",
        "for i in os.listdir(train_path):\n",
        "  labels.append(i)\n",
        "print(labels)"
      ],
      "metadata": {
        "id": "-Xe2yRwiu__Q",
        "colab": {
          "base_uri": "https://localhost:8080/"
        },
        "outputId": "9f2d9503-d464-4cc2-8853-addb0ca2137b"
      },
      "execution_count": 3,
      "outputs": [
        {
          "output_type": "stream",
          "name": "stdout",
          "text": [
            "['warrior2', 'downdog', 'tree', 'plank', 'goddess']\n"
          ]
        }
      ]
    },
    {
      "cell_type": "code",
      "source": [
        "# Counting the training samples\n",
        "Total_sample=0\n",
        "for i in os.listdir(train_path):\n",
        "    print(f'Length of :{i}= {len(os.listdir(os.path.join(train_path,i)))}')\n",
        "    Total_sample+=len(os.listdir(os.path.join(train_path,i)))\n",
        "print(f'Total Samples:{Total_sample}')"
      ],
      "metadata": {
        "colab": {
          "base_uri": "https://localhost:8080/"
        },
        "id": "X6gMXMRYu2DH",
        "outputId": "4d7c8bb6-8ff8-4a6a-bdb9-26f0e1df2273"
      },
      "execution_count": null,
      "outputs": [
        {
          "output_type": "stream",
          "name": "stdout",
          "text": [
            "Length of :downdog= 222\n",
            "Length of :warrior2= 260\n",
            "Length of :tree= 162\n",
            "Length of :plank= 270\n",
            "Length of :goddess= 184\n",
            "Total Samples:1098\n"
          ]
        }
      ]
    },
    {
      "cell_type": "code",
      "source": [
        "# Counting the testing samples\n",
        "Total_sample=0\n",
        "for i in os.listdir(test_path):\n",
        "    print(f'Length of :{i}= {len(os.listdir(os.path.join(test_path,i)))}')\n",
        "    Total_sample+=len(os.listdir(os.path.join(test_path,i)))\n",
        "print(f'Total Samples:{Total_sample}')"
      ],
      "metadata": {
        "colab": {
          "base_uri": "https://localhost:8080/"
        },
        "id": "4uYsMet2sid3",
        "outputId": "0bf308ab-4720-4dea-8099-cb209c706b65"
      },
      "execution_count": null,
      "outputs": [
        {
          "output_type": "stream",
          "name": "stdout",
          "text": [
            "Length of :warrior2= 109\n",
            "Length of :goddess= 80\n",
            "Length of :tree= 69\n",
            "Length of :downdog= 97\n",
            "Length of :plank= 115\n",
            "Total Samples:470\n"
          ]
        }
      ]
    },
    {
      "cell_type": "code",
      "source": [
        "# test out augmentation\n",
        "image_generator = ImageDataGenerator(featurewise_center=True,\n",
        "                                     featurewise_std_normalization=True,\n",
        "                                     rotation_range=20,\n",
        "                                     width_shift_range=0.2,\n",
        "                                     height_shift_range=0.2,\n",
        "                                     horizontal_flip=True,\n",
        "                                     preprocessing_function=tf.keras.applications.vgg16.preprocess_input,\n",
        "                                     validation_split=0.2)    \n",
        "\n",
        "train_dataset = image_generator.flow_from_directory(batch_size=10,\n",
        "                                                 directory=train_path,\n",
        "                                                 shuffle=True,\n",
        "                                                 target_size=(224, 224), \n",
        "                                                 subset=\"training\",\n",
        "                                                 classes=['warrior2', 'downdog', 'tree', 'plank', 'goddess'])\n",
        "\n",
        "validation_dataset = image_generator.flow_from_directory(batch_size=10,\n",
        "                                                 directory=train_path,\n",
        "                                                 shuffle=True,\n",
        "                                                 target_size=(224, 224), \n",
        "                                                 subset=\"validation\",\n",
        "                                                 classes=['warrior2', 'downdog', 'tree', 'plank', 'goddess'])"
      ],
      "metadata": {
        "colab": {
          "base_uri": "https://localhost:8080/"
        },
        "id": "JF5MyQIq3IbW",
        "outputId": "9b369da0-5005-4aa5-bad8-60a9e2e1b8c6"
      },
      "execution_count": 8,
      "outputs": [
        {
          "output_type": "stream",
          "name": "stdout",
          "text": [
            "Found 869 images belonging to 5 classes.\n",
            "Found 215 images belonging to 5 classes.\n"
          ]
        }
      ]
    },
    {
      "cell_type": "code",
      "source": [
        "print('Number of samples: ',train_dataset.samples)"
      ],
      "metadata": {
        "colab": {
          "base_uri": "https://localhost:8080/"
        },
        "id": "7nTVqxXR5PZL",
        "outputId": "9286dc0a-5bd4-4abc-c789-45860f7d6572"
      },
      "execution_count": 5,
      "outputs": [
        {
          "output_type": "stream",
          "name": "stdout",
          "text": [
            "Number of samples:  869\n"
          ]
        }
      ]
    },
    {
      "cell_type": "code",
      "source": [
        "# Preprocess images and split into training and validation sets\n",
        "# Using VGG16 preprocessing\n",
        "image_generator = ImageDataGenerator(preprocessing_function=tf.keras.applications\n",
        "                                   .vgg16.preprocess_input, validation_split=0.2)    \n",
        "\n",
        "train_dataset = image_generator.flow_from_directory(batch_size=10,\n",
        "                                                 directory=train_path,\n",
        "                                                 shuffle=True,\n",
        "                                                 target_size=(224, 224), \n",
        "                                                 subset=\"training\",\n",
        "                                                 classes=['warrior2', 'downdog', 'tree', 'plank', 'goddess'])\n",
        "\n",
        "validation_dataset = image_generator.flow_from_directory(batch_size=10,\n",
        "                                                 directory=train_path,\n",
        "                                                 shuffle=True,\n",
        "                                                 target_size=(224, 224), \n",
        "                                                 subset=\"validation\",\n",
        "                                                 classes=['warrior2', 'downdog', 'tree', 'plank', 'goddess'])"
      ],
      "metadata": {
        "colab": {
          "base_uri": "https://localhost:8080/"
        },
        "id": "jkMpi6a8WRzU",
        "outputId": "35526d0f-3341-4a73-a9a9-f26f2a183581"
      },
      "execution_count": 19,
      "outputs": [
        {
          "output_type": "stream",
          "name": "stdout",
          "text": [
            "Found 869 images belonging to 5 classes.\n",
            "Found 215 images belonging to 5 classes.\n"
          ]
        }
      ]
    },
    {
      "cell_type": "code",
      "source": [
        "# Preprocess images of test set\n",
        "test_dataset = ImageDataGenerator(preprocessing_function=tf.keras.applications\n",
        "                                   .vgg16.preprocess_input).flow_from_directory\\\n",
        "                                   (directory=test_path, target_size=(224,224), \n",
        "                         classes=['warrior2', 'downdog', 'tree', 'plank', 'goddess'], \n",
        "                         batch_size=10, shuffle=False)"
      ],
      "metadata": {
        "colab": {
          "base_uri": "https://localhost:8080/"
        },
        "id": "ElxnIJl8YCcO",
        "outputId": "a93661c7-51fd-48a7-8421-fc30361fb540"
      },
      "execution_count": 20,
      "outputs": [
        {
          "output_type": "stream",
          "name": "stdout",
          "text": [
            "Found 470 images belonging to 5 classes.\n"
          ]
        }
      ]
    },
    {
      "cell_type": "code",
      "source": [
        "imgs, labels = next(train_dataset)"
      ],
      "metadata": {
        "id": "AwcVcahSHBHD"
      },
      "execution_count": null,
      "outputs": []
    },
    {
      "cell_type": "code",
      "source": [
        "def plotImages(images_arr):\n",
        "  \"\"\"\n",
        "  Function to display images.\n",
        "  Color will be distorted from VGG16 preprocessing.\n",
        "  \"\"\"\n",
        "  fig, axes = plt.subplots(1, 10, figsize=(20,20))\n",
        "  axes = axes.flatten()\n",
        "  for img, ax in zip(images_arr, axes):\n",
        "    image = np.clip(img, 0, 1)\n",
        "    ax.imshow(image)\n",
        "    ax.axis('off')\n",
        "  plt.tight_layout()\n",
        "  plt.show()"
      ],
      "metadata": {
        "id": "-Z8B5KvCIIOP"
      },
      "execution_count": null,
      "outputs": []
    },
    {
      "cell_type": "code",
      "source": [
        "plotImages(imgs)\n",
        "print(labels)"
      ],
      "metadata": {
        "colab": {
          "base_uri": "https://localhost:8080/",
          "height": 279
        },
        "id": "sEKhCbp4In4L",
        "outputId": "005400ec-fcec-446a-cefa-637f4290d1c4"
      },
      "execution_count": null,
      "outputs": [
        {
          "output_type": "display_data",
          "data": {
            "text/plain": [
              "<Figure size 1440x1440 with 10 Axes>"
            ],
            "image/png": "[encoded data removed]"
          },
          "metadata": {
            "needs_background": "light"
          }
        },
        {
          "output_type": "stream",
          "name": "stdout",
          "text": [
            "[[0. 1. 0. 0. 0.]\n",
            " [0. 0. 0. 1. 0.]\n",
            " [1. 0. 0. 0. 0.]\n",
            " [0. 1. 0. 0. 0.]\n",
            " [0. 0. 1. 0. 0.]\n",
            " [0. 0. 1. 0. 0.]\n",
            " [1. 0. 0. 0. 0.]\n",
            " [0. 1. 0. 0. 0.]\n",
            " [0. 1. 0. 0. 0.]\n",
            " [1. 0. 0. 0. 0.]]\n"
          ]
        }
      ]
    },
    {
      "cell_type": "markdown",
      "source": [
        "## One hot encoding labels:\n",
        "[warrior2, downdog, tree, plank, goddess]\n"
      ],
      "metadata": {
        "id": "tYhs76Q-KPz3"
      }
    },
    {
      "cell_type": "markdown",
      "source": [
        "## Build and train a CNN"
      ],
      "metadata": {
        "id": "HW-3r37zhmxb"
      }
    },
    {
      "cell_type": "code",
      "source": [
        "# Build CNN with no early stopping or drop out layers\n",
        "model = Sequential([\n",
        "    Conv2D(filters=32, kernel_size=(3, 3), activation='relu', padding='same',\n",
        "           input_shape=(224,224,3)),\n",
        "    MaxPool2D(pool_size=(2, 2), strides=2),\n",
        "    Conv2D(filters=64, kernel_size=(3, 3), activation='relu', padding='same'),\n",
        "    MaxPool2D(pool_size=(2, 2), strides=2),\n",
        "    Flatten(),\n",
        "    Dense(units=5, activation='softmax'),                    \n",
        "])"
      ],
      "metadata": {
        "id": "AvWVS84KY-55"
      },
      "execution_count": 21,
      "outputs": []
    },
    {
      "cell_type": "code",
      "source": [
        "model.summary()"
      ],
      "metadata": {
        "colab": {
          "base_uri": "https://localhost:8080/"
        },
        "id": "mOYJmiRgk_i4",
        "outputId": "a4ca483e-1b32-476a-8985-1c8ab1630ee9"
      },
      "execution_count": 22,
      "outputs": [
        {
          "output_type": "stream",
          "name": "stdout",
          "text": [
            "Model: \"sequential_3\"\n",
            "_________________________________________________________________\n",
            " Layer (type)                Output Shape              Param #   \n",
            "=================================================================\n",
            " conv2d_6 (Conv2D)           (None, 224, 224, 32)      896       \n",
            "                                                                 \n",
            " max_pooling2d_6 (MaxPooling  (None, 112, 112, 32)     0         \n",
            " 2D)                                                             \n",
            "                                                                 \n",
            " conv2d_7 (Conv2D)           (None, 112, 112, 64)      18496     \n",
            "                                                                 \n",
            " max_pooling2d_7 (MaxPooling  (None, 56, 56, 64)       0         \n",
            " 2D)                                                             \n",
            "                                                                 \n",
            " flatten_3 (Flatten)         (None, 200704)            0         \n",
            "                                                                 \n",
            " dense_3 (Dense)             (None, 5)                 1003525   \n",
            "                                                                 \n",
            "=================================================================\n",
            "Total params: 1,022,917\n",
            "Trainable params: 1,022,917\n",
            "Non-trainable params: 0\n",
            "_________________________________________________________________\n"
          ]
        }
      ]
    },
    {
      "cell_type": "code",
      "source": [
        "model.compile(optimizer=Adam(learning_rate=0.0001), loss='categorical_crossentropy', metrics=['accuracy'])"
      ],
      "metadata": {
        "id": "UdC_3BYNlR6E"
      },
      "execution_count": 23,
      "outputs": []
    },
    {
      "cell_type": "code",
      "source": [
        "model.fit(x=train_dataset, validation_data=validation_dataset, epochs=10, verbose=2)"
      ],
      "metadata": {
        "colab": {
          "base_uri": "https://localhost:8080/"
        },
        "id": "JQrY_KdLoCom",
        "outputId": "24386470-cdd7-40f4-c7dd-4e698b4f72b3"
      },
      "execution_count": 24,
      "outputs": [
        {
          "output_type": "stream",
          "name": "stdout",
          "text": [
            "Epoch 1/10\n"
          ]
        },
        {
          "output_type": "stream",
          "name": "stderr",
          "text": [
            "/usr/local/lib/python3.7/dist-packages/PIL/Image.py:960: UserWarning: Palette images with Transparency expressed in bytes should be converted to RGBA images\n",
            "  \"Palette images with Transparency expressed in bytes should be \"\n"
          ]
        },
        {
          "output_type": "stream",
          "name": "stdout",
          "text": [
            "87/87 - 79s - loss: 69.8719 - accuracy: 0.2865 - val_loss: 7.7198 - val_accuracy: 0.6000 - 79s/epoch - 907ms/step\n",
            "Epoch 2/10\n",
            "87/87 - 77s - loss: 2.9633 - accuracy: 0.7330 - val_loss: 7.8173 - val_accuracy: 0.4465 - 77s/epoch - 886ms/step\n",
            "Epoch 3/10\n",
            "87/87 - 81s - loss: 1.0093 - accuracy: 0.8654 - val_loss: 7.7239 - val_accuracy: 0.5349 - 81s/epoch - 930ms/step\n",
            "Epoch 4/10\n",
            "87/87 - 77s - loss: 0.4538 - accuracy: 0.9275 - val_loss: 4.5414 - val_accuracy: 0.6512 - 77s/epoch - 886ms/step\n",
            "Epoch 5/10\n",
            "87/87 - 79s - loss: 0.1401 - accuracy: 0.9735 - val_loss: 4.4637 - val_accuracy: 0.6419 - 79s/epoch - 904ms/step\n",
            "Epoch 6/10\n",
            "87/87 - 77s - loss: 0.0792 - accuracy: 0.9850 - val_loss: 4.3472 - val_accuracy: 0.6465 - 77s/epoch - 882ms/step\n",
            "Epoch 7/10\n",
            "87/87 - 78s - loss: 0.0975 - accuracy: 0.9827 - val_loss: 4.5259 - val_accuracy: 0.6186 - 78s/epoch - 898ms/step\n",
            "Epoch 8/10\n",
            "87/87 - 76s - loss: 0.1877 - accuracy: 0.9735 - val_loss: 4.4644 - val_accuracy: 0.6651 - 76s/epoch - 878ms/step\n",
            "Epoch 9/10\n",
            "87/87 - 76s - loss: 0.0854 - accuracy: 0.9873 - val_loss: 5.0449 - val_accuracy: 0.6186 - 76s/epoch - 877ms/step\n",
            "Epoch 10/10\n",
            "87/87 - 78s - loss: 0.0751 - accuracy: 0.9919 - val_loss: 3.8606 - val_accuracy: 0.6930 - 78s/epoch - 894ms/step\n"
          ]
        },
        {
          "output_type": "execute_result",
          "data": {
            "text/plain": [
              "<keras.callbacks.History at 0x7f9bc7d59550>"
            ]
          },
          "metadata": {},
          "execution_count": 24
        }
      ]
    },
    {
      "cell_type": "code",
      "source": [
        "predictions = model.predict(x=validation_dataset, steps=len(validation_dataset), verbose=0)"
      ],
      "metadata": {
        "colab": {
          "base_uri": "https://localhost:8080/"
        },
        "id": "yBivSBy4CBdL",
        "outputId": "2477e729-1a8b-4d4d-f2da-669afe945730"
      },
      "execution_count": null,
      "outputs": [
        {
          "output_type": "stream",
          "name": "stderr",
          "text": [
            "/usr/local/lib/python3.7/dist-packages/PIL/Image.py:960: UserWarning: Palette images with Transparency expressed in bytes should be converted to RGBA images\n",
            "  \"Palette images with Transparency expressed in bytes should be \"\n"
          ]
        }
      ]
    },
    {
      "cell_type": "markdown",
      "source": [
        "### Confusion Matrix CNN - Baseline"
      ],
      "metadata": {
        "id": "L1XItpVaAvj9"
      }
    },
    {
      "cell_type": "code",
      "source": [
        "def plot_confusion_matrix(cm, classes,\n",
        "                          normalize=False,\n",
        "                          title='Confusion matrix',\n",
        "                          cmap=plt.cm.Blues):\n",
        "    \"\"\"\n",
        "    This function prints and plots the confusion matrix.\n",
        "    Normalization can be applied by setting `normalize=True`.\n",
        "    \"\"\"\n",
        "    plt.imshow(cm, interpolation='nearest', cmap=cmap)\n",
        "    plt.title(title)\n",
        "    plt.colorbar()\n",
        "    tick_marks = np.arange(len(classes))\n",
        "    plt.xticks(tick_marks, classes, rotation=45)\n",
        "    plt.yticks(tick_marks, classes)\n",
        "    plt.grid(False)\n",
        "\n",
        "    if normalize:\n",
        "        cm = cm.astype('float') / cm.sum(axis=1)[:, np.newaxis]\n",
        "        print(\"Normalized confusion matrix\")\n",
        "    else:\n",
        "        print('Confusion matrix, without normalization')\n",
        "\n",
        "    print(cm)\n",
        "\n",
        "    thresh = cm.max() / 2.\n",
        "    for i, j in itertools.product(range(cm.shape[0]), range(cm.shape[1])):\n",
        "        plt.text(j, i, cm[i, j],\n",
        "            horizontalalignment=\"center\",\n",
        "            color=\"white\" if cm[i, j] > thresh else \"black\")\n",
        "\n",
        "    plt.tight_layout()\n",
        "    plt.ylabel('True label')\n",
        "    plt.xlabel('Predicted label')"
      ],
      "metadata": {
        "id": "roAue83UAuyu"
      },
      "execution_count": null,
      "outputs": []
    },
    {
      "cell_type": "code",
      "source": [
        "labels = ['warrior2', 'downdog', 'tree', 'plank', 'goddess']\n",
        "cm = confusion_matrix(y_true=validation_dataset.classes, y_pred=np.argmax(predictions, axis=-1))"
      ],
      "metadata": {
        "id": "K8yqLrthBhCI"
      },
      "execution_count": null,
      "outputs": []
    },
    {
      "cell_type": "code",
      "source": [
        "plot_confusion_matrix(cm=cm, classes=labels, title='Baseline CNN Confusion Matrix')"
      ],
      "metadata": {
        "colab": {
          "base_uri": "https://localhost:8080/",
          "height": 413
        },
        "id": "8kkp9a9IIAON",
        "outputId": "61ce33bc-4e79-4dee-8f32-ed5b9a8282fe"
      },
      "execution_count": null,
      "outputs": [
        {
          "output_type": "stream",
          "name": "stdout",
          "text": [
            "Confusion matrix, without normalization\n",
            "[[10  9  6 17  9]\n",
            " [ 9  5  6 18  6]\n",
            " [ 8  2  6 10  5]\n",
            " [ 6  8  8 21 10]\n",
            " [12  7  3  8  6]]\n"
          ]
        },
        {
          "output_type": "display_data",
          "data": {
            "text/plain": [
              "<Figure size 432x288 with 2 Axes>"
            ],
            "image/png": "[encoded data removed]"
          },
          "metadata": {
            "needs_background": "light"
          }
        }
      ]
    },
    {
      "cell_type": "markdown",
      "source": [
        "## Discussion\n",
        "**Results**\n",
        "<ul>\n",
        "<li> Test Set Accuracy: 0.9908 </li>\n",
        "<li> Val Set Accuracy: 0.6355 </li>\n",
        "</ul>\n",
        "<br>\n",
        "\n",
        "**Why is the test set performing better than the validation set?** <br>\n",
        "The model is overfitting.\n",
        "\n",
        "\n"
      ],
      "metadata": {
        "id": "6klKuiY4qZ0R"
      }
    },
    {
      "cell_type": "markdown",
      "source": [
        "## Refine Model\n",
        "To combat overfitting, add the following:\n",
        "- Early stopping\n",
        "- Dropout layers"
      ],
      "metadata": {
        "id": "TU957OfOIeyc"
      }
    },
    {
      "cell_type": "code",
      "source": [
        "# Build CNN with early drop out layers\n",
        "model = Sequential([\n",
        "    Conv2D(filters=32, kernel_size=(3, 3), activation='relu', padding='same',\n",
        "           input_shape=(224,224,3)),\n",
        "    MaxPool2D(pool_size=(2, 2), strides=2),\n",
        "    Dropout(0.8),\n",
        "    Conv2D(filters=64, kernel_size=(3, 3), activation='relu', padding='same'),\n",
        "    MaxPool2D(pool_size=(2, 2), strides=2),\n",
        "    Dropout(0.5),\n",
        "    Flatten(),\n",
        "    Dense(units=5, activation='softmax'),                    \n",
        "])"
      ],
      "metadata": {
        "id": "kTx8vvoo9U79"
      },
      "execution_count": 14,
      "outputs": []
    },
    {
      "cell_type": "code",
      "source": [
        "model.compile(optimizer=Adam(learning_rate=0.0001), \n",
        "              loss='categorical_crossentropy', \n",
        "              metrics=['accuracy'])"
      ],
      "metadata": {
        "id": "ukDEtlJ59VE_"
      },
      "execution_count": 15,
      "outputs": []
    },
    {
      "cell_type": "code",
      "source": [
        "model.fit(x=train_dataset, validation_data=validation_dataset, epochs=10, verbose=2)"
      ],
      "metadata": {
        "colab": {
          "base_uri": "https://localhost:8080/"
        },
        "id": "i1glC0fU9VIX",
        "outputId": "563a6682-6381-4619-9b1f-8740edb31554"
      },
      "execution_count": null,
      "outputs": [
        {
          "output_type": "stream",
          "name": "stdout",
          "text": [
            "Epoch 1/10\n"
          ]
        },
        {
          "output_type": "stream",
          "name": "stderr",
          "text": [
            "/usr/local/lib/python3.7/dist-packages/PIL/Image.py:960: UserWarning: Palette images with Transparency expressed in bytes should be converted to RGBA images\n",
            "  \"Palette images with Transparency expressed in bytes should be \"\n"
          ]
        },
        {
          "output_type": "stream",
          "name": "stdout",
          "text": [
            "87/87 - 80s - loss: 147.4291 - accuracy: 0.2520 - val_loss: 14.0398 - val_accuracy: 0.2977 - 80s/epoch - 916ms/step\n",
            "Epoch 2/10\n",
            "87/87 - 77s - loss: 62.4279 - accuracy: 0.3280 - val_loss: 7.1157 - val_accuracy: 0.4744 - 77s/epoch - 881ms/step\n",
            "Epoch 3/10\n",
            "87/87 - 78s - loss: 42.1881 - accuracy: 0.4499 - val_loss: 6.0791 - val_accuracy: 0.4465 - 78s/epoch - 898ms/step\n",
            "Epoch 4/10\n",
            "87/87 - 78s - loss: 27.3672 - accuracy: 0.5558 - val_loss: 3.5124 - val_accuracy: 0.5349 - 78s/epoch - 900ms/step\n",
            "Epoch 5/10\n",
            "87/87 - 77s - loss: 21.3518 - accuracy: 0.5834 - val_loss: 3.1807 - val_accuracy: 0.5395 - 77s/epoch - 880ms/step\n",
            "Epoch 6/10\n",
            "87/87 - 78s - loss: 14.2393 - accuracy: 0.6398 - val_loss: 3.1354 - val_accuracy: 0.5070 - 78s/epoch - 895ms/step\n",
            "Epoch 7/10\n",
            "87/87 - 76s - loss: 12.7956 - accuracy: 0.6847 - val_loss: 2.7446 - val_accuracy: 0.4651 - 76s/epoch - 875ms/step\n",
            "Epoch 8/10\n",
            "87/87 - 78s - loss: 11.8319 - accuracy: 0.6847 - val_loss: 2.8873 - val_accuracy: 0.4744 - 78s/epoch - 897ms/step\n",
            "Epoch 9/10\n",
            "87/87 - 78s - loss: 8.5258 - accuracy: 0.7296 - val_loss: 2.7168 - val_accuracy: 0.4326 - 78s/epoch - 892ms/step\n",
            "Epoch 10/10\n",
            "87/87 - 76s - loss: 8.2958 - accuracy: 0.7296 - val_loss: 2.9846 - val_accuracy: 0.4372 - 76s/epoch - 876ms/step\n"
          ]
        },
        {
          "output_type": "execute_result",
          "data": {
            "text/plain": [
              "<keras.callbacks.History at 0x7f7eb04c36d0>"
            ]
          },
          "metadata": {},
          "execution_count": 43
        }
      ]
    },
    {
      "cell_type": "markdown",
      "source": [
        "### Add Early Stopping"
      ],
      "metadata": {
        "id": "IDD156egI9Me"
      }
    },
    {
      "cell_type": "code",
      "source": [
        "# model with early stopping and ReduceLROnPlateau\n",
        "model.fit(\n",
        "    x=train_dataset, validation_data=validation_dataset, epochs=10, verbose=2,\n",
        "    callbacks=[\n",
        "        keras.callbacks.EarlyStopping(patience=9, verbose=2, restore_best_weights=True),\n",
        "        keras.callbacks.ReduceLROnPlateau(factor=.5, patience=3, verbose=2)\n",
        "    ])"
      ],
      "metadata": {
        "colab": {
          "base_uri": "https://localhost:8080/"
        },
        "id": "Mzvb_s1w9VLh",
        "outputId": "91258436-8021-4e91-bc00-39062d8c7699"
      },
      "execution_count": null,
      "outputs": [
        {
          "output_type": "stream",
          "name": "stdout",
          "text": [
            "Epoch 1/10\n"
          ]
        },
        {
          "output_type": "stream",
          "name": "stderr",
          "text": [
            "/usr/local/lib/python3.7/dist-packages/PIL/Image.py:960: UserWarning: Palette images with Transparency expressed in bytes should be converted to RGBA images\n",
            "  \"Palette images with Transparency expressed in bytes should be \"\n"
          ]
        },
        {
          "output_type": "stream",
          "name": "stdout",
          "text": [
            "87/87 - 76s - loss: 7.3193 - accuracy: 0.7560 - val_loss: 2.8075 - val_accuracy: 0.4233 - lr: 1.0000e-04 - 76s/epoch - 877ms/step\n",
            "Epoch 2/10\n",
            "87/87 - 77s - loss: 3.9507 - accuracy: 0.8228 - val_loss: 2.3031 - val_accuracy: 0.4279 - lr: 1.0000e-04 - 77s/epoch - 890ms/step\n",
            "Epoch 3/10\n",
            "87/87 - 77s - loss: 4.6109 - accuracy: 0.8113 - val_loss: 2.6654 - val_accuracy: 0.4233 - lr: 1.0000e-04 - 77s/epoch - 889ms/step\n",
            "Epoch 4/10\n",
            "87/87 - 76s - loss: 4.8702 - accuracy: 0.8170 - val_loss: 2.4394 - val_accuracy: 0.4465 - lr: 1.0000e-04 - 76s/epoch - 873ms/step\n",
            "Epoch 5/10\n",
            "\n",
            "Epoch 5: ReduceLROnPlateau reducing learning rate to 4.999999873689376e-05.\n",
            "87/87 - 77s - loss: 4.2974 - accuracy: 0.8044 - val_loss: 2.5311 - val_accuracy: 0.4651 - lr: 1.0000e-04 - 77s/epoch - 889ms/step\n",
            "Epoch 6/10\n",
            "87/87 - 76s - loss: 2.4303 - accuracy: 0.8757 - val_loss: 2.4284 - val_accuracy: 0.4140 - lr: 5.0000e-05 - 76s/epoch - 873ms/step\n",
            "Epoch 7/10\n",
            "87/87 - 76s - loss: 2.1416 - accuracy: 0.8792 - val_loss: 2.5652 - val_accuracy: 0.4558 - lr: 5.0000e-05 - 76s/epoch - 875ms/step\n",
            "Epoch 8/10\n",
            "\n",
            "Epoch 8: ReduceLROnPlateau reducing learning rate to 2.499999936844688e-05.\n",
            "87/87 - 77s - loss: 2.1673 - accuracy: 0.9010 - val_loss: 2.3799 - val_accuracy: 0.4884 - lr: 5.0000e-05 - 77s/epoch - 887ms/step\n",
            "Epoch 9/10\n",
            "87/87 - 76s - loss: 1.3335 - accuracy: 0.9056 - val_loss: 2.4542 - val_accuracy: 0.4977 - lr: 2.5000e-05 - 76s/epoch - 869ms/step\n",
            "Epoch 10/10\n",
            "87/87 - 78s - loss: 1.3693 - accuracy: 0.9183 - val_loss: 2.4143 - val_accuracy: 0.4884 - lr: 2.5000e-05 - 78s/epoch - 891ms/step\n"
          ]
        },
        {
          "output_type": "execute_result",
          "data": {
            "text/plain": [
              "<keras.callbacks.History at 0x7f7eb057db90>"
            ]
          },
          "metadata": {},
          "execution_count": 44
        }
      ]
    },
    {
      "cell_type": "markdown",
      "source": [
        "### Add Data Augmentation\n",
        "To continue to address overfitting, this model will include data augmentation, early stopping, and drop out layers. "
      ],
      "metadata": {
        "id": "Jdf9hes8IYeh"
      }
    },
    {
      "cell_type": "code",
      "source": [
        "# data augmentation datasets\n",
        "image_generator = ImageDataGenerator(featurewise_center=True,\n",
        "                                     featurewise_std_normalization=True,\n",
        "                                     rotation_range=20,\n",
        "                                     width_shift_range=0.2,\n",
        "                                     height_shift_range=0.2,\n",
        "                                     horizontal_flip=True,\n",
        "                                     preprocessing_function=tf.keras.applications.vgg16.preprocess_input,\n",
        "                                     validation_split=0.2)    \n",
        "\n",
        "train_dataset = image_generator.flow_from_directory(batch_size=10,\n",
        "                                                 directory=train_path,\n",
        "                                                 shuffle=True,\n",
        "                                                 target_size=(224, 224), \n",
        "                                                 subset=\"training\",\n",
        "                                                 classes=['warrior2', 'downdog', 'tree', 'plank', 'goddess'])\n",
        "\n",
        "validation_dataset = image_generator.flow_from_directory(batch_size=10,\n",
        "                                                 directory=train_path,\n",
        "                                                 shuffle=True,\n",
        "                                                 target_size=(224, 224), \n",
        "                                                 subset=\"validation\",\n",
        "                                                 classes=['warrior2', 'downdog', 'tree', 'plank', 'goddess'])"
      ],
      "metadata": {
        "colab": {
          "base_uri": "https://localhost:8080/"
        },
        "id": "lnGiUYYGCSNQ",
        "outputId": "5b9a92da-89dd-4637-bf01-66cd8c3f91f4"
      },
      "execution_count": 13,
      "outputs": [
        {
          "output_type": "stream",
          "name": "stdout",
          "text": [
            "Found 869 images belonging to 5 classes.\n",
            "Found 215 images belonging to 5 classes.\n"
          ]
        }
      ]
    },
    {
      "cell_type": "code",
      "source": [
        "# fit the above datasets\n",
        "model.fit(\n",
        "    x=train_dataset, validation_data=validation_dataset, epochs=10, verbose=2,\n",
        "    callbacks=[\n",
        "        keras.callbacks.EarlyStopping(patience=9, verbose=2, restore_best_weights=True),\n",
        "        keras.callbacks.ReduceLROnPlateau(factor=.5, patience=3, verbose=2)\n",
        "    ])"
      ],
      "metadata": {
        "colab": {
          "base_uri": "https://localhost:8080/"
        },
        "id": "fAAQPbxMC6Go",
        "outputId": "05f3f969-30c2-4b26-e084-a4216bd17c2a"
      },
      "execution_count": 16,
      "outputs": [
        {
          "output_type": "stream",
          "name": "stderr",
          "text": [
            "/usr/local/lib/python3.7/dist-packages/keras_preprocessing/image/image_data_generator.py:720: UserWarning: This ImageDataGenerator specifies `featurewise_center`, but it hasn't been fit on any training data. Fit it first by calling `.fit(numpy_data)`.\n",
            "  warnings.warn('This ImageDataGenerator specifies '\n",
            "/usr/local/lib/python3.7/dist-packages/keras_preprocessing/image/image_data_generator.py:728: UserWarning: This ImageDataGenerator specifies `featurewise_std_normalization`, but it hasn't been fit on any training data. Fit it first by calling `.fit(numpy_data)`.\n",
            "  warnings.warn('This ImageDataGenerator specifies '\n"
          ]
        },
        {
          "output_type": "stream",
          "name": "stdout",
          "text": [
            "Epoch 1/10\n"
          ]
        },
        {
          "output_type": "stream",
          "name": "stderr",
          "text": [
            "/usr/local/lib/python3.7/dist-packages/PIL/Image.py:960: UserWarning: Palette images with Transparency expressed in bytes should be converted to RGBA images\n",
            "  \"Palette images with Transparency expressed in bytes should be \"\n"
          ]
        },
        {
          "output_type": "stream",
          "name": "stdout",
          "text": [
            "87/87 - 94s - loss: 215.7702 - accuracy: 0.1968 - val_loss: 17.8765 - val_accuracy: 0.2326 - lr: 1.0000e-04 - 94s/epoch - 1s/step\n",
            "Epoch 2/10\n",
            "87/87 - 93s - loss: 107.8737 - accuracy: 0.2232 - val_loss: 15.9141 - val_accuracy: 0.2326 - lr: 1.0000e-04 - 93s/epoch - 1s/step\n",
            "Epoch 3/10\n",
            "87/87 - 92s - loss: 68.5077 - accuracy: 0.2394 - val_loss: 7.5521 - val_accuracy: 0.2605 - lr: 1.0000e-04 - 92s/epoch - 1s/step\n",
            "Epoch 4/10\n",
            "87/87 - 92s - loss: 47.0593 - accuracy: 0.2175 - val_loss: 4.2679 - val_accuracy: 0.2651 - lr: 1.0000e-04 - 92s/epoch - 1s/step\n",
            "Epoch 5/10\n",
            "87/87 - 93s - loss: 34.4225 - accuracy: 0.2359 - val_loss: 3.5254 - val_accuracy: 0.2977 - lr: 1.0000e-04 - 93s/epoch - 1s/step\n",
            "Epoch 6/10\n",
            "87/87 - 93s - loss: 27.2571 - accuracy: 0.2658 - val_loss: 3.4424 - val_accuracy: 0.2000 - lr: 1.0000e-04 - 93s/epoch - 1s/step\n",
            "Epoch 7/10\n",
            "87/87 - 94s - loss: 24.3109 - accuracy: 0.2647 - val_loss: 2.7975 - val_accuracy: 0.2930 - lr: 1.0000e-04 - 94s/epoch - 1s/step\n",
            "Epoch 8/10\n",
            "87/87 - 92s - loss: 21.8783 - accuracy: 0.2808 - val_loss: 2.3300 - val_accuracy: 0.2419 - lr: 1.0000e-04 - 92s/epoch - 1s/step\n",
            "Epoch 9/10\n",
            "87/87 - 94s - loss: 21.0788 - accuracy: 0.2417 - val_loss: 2.0997 - val_accuracy: 0.3023 - lr: 1.0000e-04 - 94s/epoch - 1s/step\n",
            "Epoch 10/10\n",
            "87/87 - 92s - loss: 18.7504 - accuracy: 0.2670 - val_loss: 1.9446 - val_accuracy: 0.2837 - lr: 1.0000e-04 - 92s/epoch - 1s/step\n"
          ]
        },
        {
          "output_type": "execute_result",
          "data": {
            "text/plain": [
              "<keras.callbacks.History at 0x7f9bcc061890>"
            ]
          },
          "metadata": {},
          "execution_count": 16
        }
      ]
    },
    {
      "cell_type": "markdown",
      "source": [
        "## Discussion\n",
        "The model is still overfitting after adding Dropout layers and early stopping. Augmenting the images in the training dataset to increase the sample size could be useful. Another option is to use transfer learning."
      ],
      "metadata": {
        "id": "Xsq7jeestg_W"
      }
    },
    {
      "cell_type": "markdown",
      "source": [
        "## Transfer Learning with VGG16 "
      ],
      "metadata": {
        "id": "N0-CGx9INi-O"
      }
    },
    {
      "cell_type": "code",
      "source": [
        "# Import vgg16\n",
        "vgg16_model = tf.keras.applications.vgg16.VGG16()"
      ],
      "metadata": {
        "colab": {
          "base_uri": "https://localhost:8080/"
        },
        "id": "i9A1Sn_oJNc8",
        "outputId": "28f9aba8-6648-4418-db1d-afb16fbd01f5"
      },
      "execution_count": null,
      "outputs": [
        {
          "output_type": "stream",
          "name": "stdout",
          "text": [
            "Downloading data from https://storage.googleapis.com/tensorflow/keras-applications/vgg16/vgg16_weights_tf_dim_ordering_tf_kernels.h5\n",
            "553467904/553467096 [==============================] - 3s 0us/step\n",
            "553476096/553467096 [==============================] - 3s 0us/step\n"
          ]
        }
      ]
    },
    {
      "cell_type": "code",
      "source": [
        "vgg16_model.summary()"
      ],
      "metadata": {
        "colab": {
          "base_uri": "https://localhost:8080/"
        },
        "id": "07-B1mDRN5PV",
        "outputId": "08703a90-4d73-43c1-ac9f-3d11a7501abe"
      },
      "execution_count": null,
      "outputs": [
        {
          "output_type": "stream",
          "name": "stdout",
          "text": [
            "Model: \"vgg16\"\n",
            "_________________________________________________________________\n",
            " Layer (type)                Output Shape              Param #   \n",
            "=================================================================\n",
            " input_1 (InputLayer)        [(None, 224, 224, 3)]     0         \n",
            "                                                                 \n",
            " block1_conv1 (Conv2D)       (None, 224, 224, 64)      1792      \n",
            "                                                                 \n",
            " block1_conv2 (Conv2D)       (None, 224, 224, 64)      36928     \n",
            "                                                                 \n",
            " block1_pool (MaxPooling2D)  (None, 112, 112, 64)      0         \n",
            "                                                                 \n",
            " block2_conv1 (Conv2D)       (None, 112, 112, 128)     73856     \n",
            "                                                                 \n",
            " block2_conv2 (Conv2D)       (None, 112, 112, 128)     147584    \n",
            "                                                                 \n",
            " block2_pool (MaxPooling2D)  (None, 56, 56, 128)       0         \n",
            "                                                                 \n",
            " block3_conv1 (Conv2D)       (None, 56, 56, 256)       295168    \n",
            "                                                                 \n",
            " block3_conv2 (Conv2D)       (None, 56, 56, 256)       590080    \n",
            "                                                                 \n",
            " block3_conv3 (Conv2D)       (None, 56, 56, 256)       590080    \n",
            "                                                                 \n",
            " block3_pool (MaxPooling2D)  (None, 28, 28, 256)       0         \n",
            "                                                                 \n",
            " block4_conv1 (Conv2D)       (None, 28, 28, 512)       1180160   \n",
            "                                                                 \n",
            " block4_conv2 (Conv2D)       (None, 28, 28, 512)       2359808   \n",
            "                                                                 \n",
            " block4_conv3 (Conv2D)       (None, 28, 28, 512)       2359808   \n",
            "                                                                 \n",
            " block4_pool (MaxPooling2D)  (None, 14, 14, 512)       0         \n",
            "                                                                 \n",
            " block5_conv1 (Conv2D)       (None, 14, 14, 512)       2359808   \n",
            "                                                                 \n",
            " block5_conv2 (Conv2D)       (None, 14, 14, 512)       2359808   \n",
            "                                                                 \n",
            " block5_conv3 (Conv2D)       (None, 14, 14, 512)       2359808   \n",
            "                                                                 \n",
            " block5_pool (MaxPooling2D)  (None, 7, 7, 512)         0         \n",
            "                                                                 \n",
            " flatten (Flatten)           (None, 25088)             0         \n",
            "                                                                 \n",
            " fc1 (Dense)                 (None, 4096)              102764544 \n",
            "                                                                 \n",
            " fc2 (Dense)                 (None, 4096)              16781312  \n",
            "                                                                 \n",
            " predictions (Dense)         (None, 1000)              4097000   \n",
            "                                                                 \n",
            "=================================================================\n",
            "Total params: 138,357,544\n",
            "Trainable params: 138,357,544\n",
            "Non-trainable params: 0\n",
            "_________________________________________________________________\n"
          ]
        }
      ]
    },
    {
      "cell_type": "code",
      "source": [
        "# Create a sequential model and add the same layers as VGG16\n",
        "model = Sequential()\n",
        "for layer in vgg16_model.layers[:-1]:\n",
        "  model.add(layer)"
      ],
      "metadata": {
        "id": "ZR2U0j95OB7B"
      },
      "execution_count": null,
      "outputs": []
    },
    {
      "cell_type": "code",
      "source": [
        "# Make layers non-trainable to freeze weights/params\n",
        "for layer in model.layers:\n",
        "  layer.trainable=False"
      ],
      "metadata": {
        "id": "rk3YsAMnOhXh"
      },
      "execution_count": null,
      "outputs": []
    },
    {
      "cell_type": "code",
      "source": [
        "# add trainable output layer with 5 nodes for the 5 classes\n",
        "model.add(Dense(units=5, activation='softmax'))"
      ],
      "metadata": {
        "id": "7Onu2CTyO4xM"
      },
      "execution_count": null,
      "outputs": []
    },
    {
      "cell_type": "code",
      "source": [
        "model.summary()"
      ],
      "metadata": {
        "colab": {
          "base_uri": "https://localhost:8080/"
        },
        "id": "l11AFtPJPWr0",
        "outputId": "2711d8fa-3d8f-4c25-db49-fca34265f1cc"
      },
      "execution_count": null,
      "outputs": [
        {
          "output_type": "stream",
          "name": "stdout",
          "text": [
            "Model: \"sequential_3\"\n",
            "_________________________________________________________________\n",
            " Layer (type)                Output Shape              Param #   \n",
            "=================================================================\n",
            " block1_conv1 (Conv2D)       (None, 224, 224, 64)      1792      \n",
            "                                                                 \n",
            " block1_conv2 (Conv2D)       (None, 224, 224, 64)      36928     \n",
            "                                                                 \n",
            " block1_pool (MaxPooling2D)  (None, 112, 112, 64)      0         \n",
            "                                                                 \n",
            " block2_conv1 (Conv2D)       (None, 112, 112, 128)     73856     \n",
            "                                                                 \n",
            " block2_conv2 (Conv2D)       (None, 112, 112, 128)     147584    \n",
            "                                                                 \n",
            " block2_pool (MaxPooling2D)  (None, 56, 56, 128)       0         \n",
            "                                                                 \n",
            " block3_conv1 (Conv2D)       (None, 56, 56, 256)       295168    \n",
            "                                                                 \n",
            " block3_conv2 (Conv2D)       (None, 56, 56, 256)       590080    \n",
            "                                                                 \n",
            " block3_conv3 (Conv2D)       (None, 56, 56, 256)       590080    \n",
            "                                                                 \n",
            " block3_pool (MaxPooling2D)  (None, 28, 28, 256)       0         \n",
            "                                                                 \n",
            " block4_conv1 (Conv2D)       (None, 28, 28, 512)       1180160   \n",
            "                                                                 \n",
            " block4_conv2 (Conv2D)       (None, 28, 28, 512)       2359808   \n",
            "                                                                 \n",
            " block4_conv3 (Conv2D)       (None, 28, 28, 512)       2359808   \n",
            "                                                                 \n",
            " block4_pool (MaxPooling2D)  (None, 14, 14, 512)       0         \n",
            "                                                                 \n",
            " block5_conv1 (Conv2D)       (None, 14, 14, 512)       2359808   \n",
            "                                                                 \n",
            " block5_conv2 (Conv2D)       (None, 14, 14, 512)       2359808   \n",
            "                                                                 \n",
            " block5_conv3 (Conv2D)       (None, 14, 14, 512)       2359808   \n",
            "                                                                 \n",
            " block5_pool (MaxPooling2D)  (None, 7, 7, 512)         0         \n",
            "                                                                 \n",
            " flatten (Flatten)           (None, 25088)             0         \n",
            "                                                                 \n",
            " fc1 (Dense)                 (None, 4096)              102764544 \n",
            "                                                                 \n",
            " fc2 (Dense)                 (None, 4096)              16781312  \n",
            "                                                                 \n",
            " dense_3 (Dense)             (None, 5)                 20485     \n",
            "                                                                 \n",
            "=================================================================\n",
            "Total params: 134,281,029\n",
            "Trainable params: 20,485\n",
            "Non-trainable params: 134,260,544\n",
            "_________________________________________________________________\n"
          ]
        }
      ]
    },
    {
      "cell_type": "code",
      "source": [
        "model.compile(optimizer=Adam(learning_rate=0.0001), \n",
        "              loss='categorical_crossentropy',\n",
        "              metrics=['accuracy'])"
      ],
      "metadata": {
        "id": "095SouUbU8do"
      },
      "execution_count": null,
      "outputs": []
    },
    {
      "cell_type": "code",
      "source": [
        "model.fit(x=train_dataset,\n",
        "          steps_per_epoch=len(train_dataset),\n",
        "          validation_data=validation_dataset,\n",
        "          validation_steps=len(validation_dataset),\n",
        "          epochs=5,\n",
        "          verbose=2)"
      ],
      "metadata": {
        "colab": {
          "base_uri": "https://localhost:8080/"
        },
        "id": "HKeyWfKnU_vO",
        "outputId": "ec8ae41d-e122-457b-e3c8-50339133ff36"
      },
      "execution_count": null,
      "outputs": [
        {
          "output_type": "stream",
          "name": "stdout",
          "text": [
            "Epoch 1/5\n"
          ]
        },
        {
          "output_type": "stream",
          "name": "stderr",
          "text": [
            "/usr/local/lib/python3.7/dist-packages/PIL/Image.py:960: UserWarning: Palette images with Transparency expressed in bytes should be converted to RGBA images\n",
            "  \"Palette images with Transparency expressed in bytes should be \"\n"
          ]
        },
        {
          "output_type": "stream",
          "name": "stdout",
          "text": [
            "87/87 - 511s - loss: 1.6253 - accuracy: 0.3728 - val_loss: 1.2729 - val_accuracy: 0.4977 - 511s/epoch - 6s/step\n",
            "Epoch 2/5\n",
            "87/87 - 510s - loss: 1.0038 - accuracy: 0.6214 - val_loss: 0.9731 - val_accuracy: 0.6233 - 510s/epoch - 6s/step\n",
            "Epoch 3/5\n",
            "87/87 - 512s - loss: 0.7547 - accuracy: 0.7353 - val_loss: 0.8394 - val_accuracy: 0.6837 - 512s/epoch - 6s/step\n",
            "Epoch 4/5\n",
            "87/87 - 513s - loss: 0.6163 - accuracy: 0.8009 - val_loss: 0.7539 - val_accuracy: 0.7116 - 513s/epoch - 6s/step\n",
            "Epoch 5/5\n",
            "87/87 - 514s - loss: 0.5174 - accuracy: 0.8389 - val_loss: 0.6893 - val_accuracy: 0.7488 - 514s/epoch - 6s/step\n"
          ]
        },
        {
          "output_type": "execute_result",
          "data": {
            "text/plain": [
              "<keras.callbacks.History at 0x7f7ea932d950>"
            ]
          },
          "metadata": {},
          "execution_count": 52
        }
      ]
    },
    {
      "cell_type": "markdown",
      "source": [
        "## Results using VGG16\n",
        "\n",
        "**VGG16**\n",
        "<ul>\n",
        "<li> Test Set Accuracy: 0.8462 </li>\n",
        "<li> Val Set Accuracy: 0.7991 </li>\n",
        "</ul>\n",
        "<br>\n",
        "\n",
        "**Baseline**\n",
        "<ul>\n",
        "<li> Test Set Accuracy: 0.9908 </li>\n",
        "<li> Val Set Accuracy: 0.6355 </li>\n",
        "</ul>\n",
        "<br>"
      ],
      "metadata": {
        "id": "OaRpph7vkxWV"
      }
    },
    {
      "cell_type": "markdown",
      "source": [
        "## Make Predictions"
      ],
      "metadata": {
        "id": "D_gFgji2EqSo"
      }
    },
    {
      "cell_type": "code",
      "source": [
        "predictions = model.predict(x=test_dataset, steps=len(test_dataset), verbose=0)"
      ],
      "metadata": {
        "colab": {
          "base_uri": "https://localhost:8080/"
        },
        "id": "Eld3Mp2gDXSo",
        "outputId": "0a98c8ad-7e45-4222-f5f9-d083fcd60487"
      },
      "execution_count": null,
      "outputs": [
        {
          "output_type": "stream",
          "name": "stderr",
          "text": [
            "/usr/local/lib/python3.7/dist-packages/PIL/TiffImagePlugin.py:770: UserWarning: Possibly corrupt EXIF data.  Expecting to read 11 bytes but only got 10. Skipping tag 42037\n",
            "  \" Skipping tag %s\" % (size, len(data), tag)\n"
          ]
        }
      ]
    },
    {
      "cell_type": "markdown",
      "source": [
        "## Confusion Matrix"
      ],
      "metadata": {
        "id": "fvOu-h68Ev83"
      }
    },
    {
      "cell_type": "code",
      "source": [
        "cm = confusion_matrix(y_true=test_dataset.classes, y_pred=np.argmax(predictions, axis=-1))\n",
        "cm_plot_labels = ['warrior2', 'downdog', 'tree', 'plank', 'goddess']\n",
        "plot_confusion_matrix(cm=cm, classes=cm_plot_labels, title='VGG16 Model Confusion Matrix')"
      ],
      "metadata": {
        "colab": {
          "base_uri": "https://localhost:8080/",
          "height": 413
        },
        "id": "kfrQTwXKDqjI",
        "outputId": "4e4b1bca-df35-459d-cd85-feef3cfd42ac"
      },
      "execution_count": null,
      "outputs": [
        {
          "output_type": "stream",
          "name": "stdout",
          "text": [
            "Confusion matrix, without normalization\n",
            "[[83  4  4  4 14]\n",
            " [ 2 86  2  6  1]\n",
            " [ 3  2 59  0  5]\n",
            " [14  6  4 90  1]\n",
            " [ 6  1  7  2 64]]\n"
          ]
        },
        {
          "output_type": "display_data",
          "data": {
            "text/plain": [
              "<Figure size 432x288 with 2 Axes>"
            ],
            "image/png": "[encoded data removed]"
          },
          "metadata": {
            "needs_background": "light"
          }
        }
      ]
    }
  ]
}